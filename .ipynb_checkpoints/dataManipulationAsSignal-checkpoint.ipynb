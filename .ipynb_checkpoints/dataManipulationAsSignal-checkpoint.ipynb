{
 "cells": [
  {
   "cell_type": "code",
   "execution_count": 20,
   "metadata": {},
   "outputs": [],
   "source": [
    "import pandas as pd\n",
    "import numpy as np\n",
    "import matplotlib.pyplot as plt\n",
    "import seaborn as sns\n",
    "import os\n",
    "import qgrid"
   ]
  },
  {
   "cell_type": "code",
   "execution_count": 21,
   "metadata": {},
   "outputs": [
    {
     "name": "stdout",
     "output_type": "stream",
     "text": [
      "Total Files 126\n"
     ]
    }
   ],
   "source": [
    "count = 0\n",
    "files = []\n",
    "for r, d, f in os.walk(os.path.join(os.getcwd(),\"data\")):\n",
    "    for file in f:\n",
    "        if \"dataManipulation\" in file or 'checkpoint' in file:\n",
    "            continue\n",
    "        if '.csv'  in file:\n",
    "            files.append(os.path.join(r, file))\n",
    "            count += 1\n",
    "print('Total Files',count)"
   ]
  },
  {
   "cell_type": "code",
   "execution_count": 22,
   "metadata": {},
   "outputs": [],
   "source": [
    "dataQ = []\n",
    "for f in files:\n",
    "    ques = pd.read_csv(f)\n",
    "    ques = ques[ques['poorSignal']==0]\n",
    "    ques = ques.drop(['poorSignal','rawValue','delta','theta','meditation',],axis=1)\n",
    "    if ques.shape[0] != 0:\n",
    "        if '_t_' in f:\n",
    "            ques['isTrue'] = [1 for i in range(ques.shape[0])]\n",
    "        elif '_f_' in f:\n",
    "            ques['isTrue'] = [0 for i in range(ques.shape[0])]\n",
    "        dataQ.append(ques)"
   ]
  },
  {
   "cell_type": "code",
   "execution_count": 23,
   "metadata": {},
   "outputs": [],
   "source": [
    "import math"
   ]
  },
  {
   "cell_type": "code",
   "execution_count": 24,
   "metadata": {},
   "outputs": [
    {
     "data": {
      "text/plain": [
       "35"
      ]
     },
     "execution_count": 24,
     "metadata": {},
     "output_type": "execute_result"
    }
   ],
   "source": [
    "avgRow = math.ceil(sum([q.shape[0] for q in dataQ])/len(dataQ))\n",
    "avgRow"
   ]
  },
  {
   "cell_type": "code",
   "execution_count": 25,
   "metadata": {},
   "outputs": [],
   "source": [
    "from scipy import signal"
   ]
  },
  {
   "cell_type": "code",
   "execution_count": 26,
   "metadata": {},
   "outputs": [],
   "source": [
    "def resample(data):\n",
    "    sampledData = pd.DataFrame()\n",
    "    u = math.ceil(((avgRow/len(data))*100)+0.001)\n",
    "    for column in data.columns:\n",
    "        if column == \"isTrue\":\n",
    "            t = int(data[column][:1])\n",
    "            sampledData[column] = [t for i in range(avgRow+1)]\n",
    "            continue\n",
    "        sampledData[column] = signal.resample_poly(data[column],u,100)\n",
    "    return sampledData"
   ]
  },
  {
   "cell_type": "code",
   "execution_count": 27,
   "metadata": {},
   "outputs": [],
   "source": [
    "sampledDataQ = []\n",
    "for data in dataQ:\n",
    "    data = resample(data)\n",
    "    sampledDataQ.append(data)"
   ]
  },
  {
   "cell_type": "code",
   "execution_count": null,
   "metadata": {},
   "outputs": [],
   "source": []
  },
  {
   "cell_type": "code",
   "execution_count": 30,
   "metadata": {},
   "outputs": [
    {
     "ename": "ImportError",
     "evalue": "cannot import name 'normalizeor' from 'sklearn.preprocessing' (C:\\ProgramData\\Anaconda3\\lib\\site-packages\\sklearn\\preprocessing\\__init__.py)",
     "output_type": "error",
     "traceback": [
      "\u001b[1;31m----------------------------------------------------------------------\u001b[0m",
      "\u001b[1;31mImportError\u001b[0m                          Traceback (most recent call last)",
      "\u001b[1;32m<ipython-input-30-4a333bebbf5a>\u001b[0m in \u001b[0;36m<module>\u001b[1;34m\u001b[0m\n\u001b[1;32m----> 1\u001b[1;33m \u001b[1;32mfrom\u001b[0m \u001b[0msklearn\u001b[0m\u001b[1;33m.\u001b[0m\u001b[0mpreprocessing\u001b[0m \u001b[1;32mimport\u001b[0m \u001b[0mMinMaxScaler\u001b[0m\u001b[1;33m,\u001b[0m\u001b[0mnormalizeor\u001b[0m\u001b[1;33m\u001b[0m\u001b[1;33m\u001b[0m\u001b[0m\n\u001b[0m\u001b[0;32m      2\u001b[0m \u001b[0mscaler\u001b[0m \u001b[1;33m=\u001b[0m \u001b[0mMinMaxScaler\u001b[0m\u001b[1;33m(\u001b[0m\u001b[1;33m)\u001b[0m\u001b[1;33m\u001b[0m\u001b[1;33m\u001b[0m\u001b[0m\n\u001b[0;32m      3\u001b[0m \u001b[0mnorm\u001b[0m \u001b[1;33m=\u001b[0m \u001b[0mnormalizeor\u001b[0m\u001b[1;33m(\u001b[0m\u001b[1;33m)\u001b[0m\u001b[1;33m\u001b[0m\u001b[1;33m\u001b[0m\u001b[0m\n",
      "\u001b[1;31mImportError\u001b[0m: cannot import name 'normalizeor' from 'sklearn.preprocessing' (C:\\ProgramData\\Anaconda3\\lib\\site-packages\\sklearn\\preprocessing\\__init__.py)"
     ]
    }
   ],
   "source": [
    "from sklearn.preprocessing import MinMaxScaler,Normalizeor\n",
    "scaler = MinMaxScaler()\n",
    "norm = normalizeor()"
   ]
  },
  {
   "cell_type": "code",
   "execution_count": 10,
   "metadata": {},
   "outputs": [],
   "source": [
    "scaleCol = ['attention','highAlpha','highBeta','lowAlpha','lowBeta','lowGamma','midGamma']\n",
    "finalDataQ = []\n",
    "for data in sampledDataQ:\n",
    "    data[scaleCol] = scaler.fit_transform(data[scaleCol])\n",
    "    finalDataQ.append(data)"
   ]
  },
  {
   "cell_type": "code",
   "execution_count": 28,
   "metadata": {},
   "outputs": [
    {
     "data": {
      "text/html": [
       "<div>\n",
       "<style scoped>\n",
       "    .dataframe tbody tr th:only-of-type {\n",
       "        vertical-align: middle;\n",
       "    }\n",
       "\n",
       "    .dataframe tbody tr th {\n",
       "        vertical-align: top;\n",
       "    }\n",
       "\n",
       "    .dataframe thead th {\n",
       "        text-align: right;\n",
       "    }\n",
       "</style>\n",
       "<table border=\"1\" class=\"dataframe\">\n",
       "  <thead>\n",
       "    <tr style=\"text-align: right;\">\n",
       "      <th></th>\n",
       "      <th>highAlpha</th>\n",
       "      <th>lowAlpha</th>\n",
       "      <th>highBeta</th>\n",
       "      <th>lowBeta</th>\n",
       "      <th>midGamma</th>\n",
       "      <th>lowGamma</th>\n",
       "      <th>attention</th>\n",
       "      <th>isTrue</th>\n",
       "    </tr>\n",
       "  </thead>\n",
       "  <tbody>\n",
       "    <tr>\n",
       "      <th>0</th>\n",
       "      <td>1581.066649</td>\n",
       "      <td>5152.476060</td>\n",
       "      <td>1230.830366</td>\n",
       "      <td>7164.833674</td>\n",
       "      <td>471.317969</td>\n",
       "      <td>817.551552</td>\n",
       "      <td>-5.435837e-15</td>\n",
       "      <td>0</td>\n",
       "    </tr>\n",
       "    <tr>\n",
       "      <th>1</th>\n",
       "      <td>1893.226491</td>\n",
       "      <td>6049.733160</td>\n",
       "      <td>1399.297556</td>\n",
       "      <td>8043.182821</td>\n",
       "      <td>530.989203</td>\n",
       "      <td>924.030886</td>\n",
       "      <td>1.392189e+00</td>\n",
       "      <td>0</td>\n",
       "    </tr>\n",
       "    <tr>\n",
       "      <th>2</th>\n",
       "      <td>1702.817591</td>\n",
       "      <td>5484.286807</td>\n",
       "      <td>1285.268770</td>\n",
       "      <td>7426.351294</td>\n",
       "      <td>489.544856</td>\n",
       "      <td>850.777108</td>\n",
       "      <td>7.534443e-01</td>\n",
       "      <td>0</td>\n",
       "    </tr>\n",
       "    <tr>\n",
       "      <th>3</th>\n",
       "      <td>1372.286997</td>\n",
       "      <td>4615.243049</td>\n",
       "      <td>1157.202828</td>\n",
       "      <td>6858.270647</td>\n",
       "      <td>448.895647</td>\n",
       "      <td>775.111690</td>\n",
       "      <td>-1.660382e+00</td>\n",
       "      <td>0</td>\n",
       "    </tr>\n",
       "    <tr>\n",
       "      <th>4</th>\n",
       "      <td>1361.913135</td>\n",
       "      <td>4617.211544</td>\n",
       "      <td>1171.345240</td>\n",
       "      <td>6971.093410</td>\n",
       "      <td>455.753571</td>\n",
       "      <td>786.121314</td>\n",
       "      <td>-2.075336e+00</td>\n",
       "      <td>0</td>\n",
       "    </tr>\n",
       "  </tbody>\n",
       "</table>\n",
       "</div>"
      ],
      "text/plain": [
       "     highAlpha     lowAlpha     highBeta      lowBeta    midGamma    lowGamma  \\\n",
       "0  1581.066649  5152.476060  1230.830366  7164.833674  471.317969  817.551552   \n",
       "1  1893.226491  6049.733160  1399.297556  8043.182821  530.989203  924.030886   \n",
       "2  1702.817591  5484.286807  1285.268770  7426.351294  489.544856  850.777108   \n",
       "3  1372.286997  4615.243049  1157.202828  6858.270647  448.895647  775.111690   \n",
       "4  1361.913135  4617.211544  1171.345240  6971.093410  455.753571  786.121314   \n",
       "\n",
       "      attention  isTrue  \n",
       "0 -5.435837e-15       0  \n",
       "1  1.392189e+00       0  \n",
       "2  7.534443e-01       0  \n",
       "3 -1.660382e+00       0  \n",
       "4 -2.075336e+00       0  "
      ]
     },
     "execution_count": 28,
     "metadata": {},
     "output_type": "execute_result"
    }
   ],
   "source": [
    "dataset = pd.concat(sampledDataQ,ignore_index=True)\n",
    "dataset.head()"
   ]
  },
  {
   "cell_type": "code",
   "execution_count": 29,
   "metadata": {},
   "outputs": [],
   "source": [
    "dataset.to_csv(\"DatasetWithScale.csv\")"
   ]
  },
  {
   "cell_type": "code",
   "execution_count": 22,
   "metadata": {},
   "outputs": [],
   "source": [
    "c = []\n",
    "for col in scaleCol:\n",
    "    for i in range(1,avgRow+2):\n",
    "        c.append(f\"{col}{i}\")\n",
    "c.insert(0,\"isTrue\")"
   ]
  },
  {
   "cell_type": "code",
   "execution_count": 31,
   "metadata": {},
   "outputs": [
    {
     "name": "stdout",
     "output_type": "stream",
     "text": [
      "0     0.507155\n",
      "1     0.510588\n",
      "2     0.504639\n",
      "3     0.505381\n",
      "4     0.516906\n",
      "5     0.472229\n",
      "6     0.900221\n",
      "7     1.000000\n",
      "8     0.949968\n",
      "9     0.981884\n",
      "10    0.960695\n",
      "11    0.973902\n",
      "12    0.966715\n",
      "13    0.968073\n",
      "14    0.974145\n",
      "15    0.941536\n",
      "16    0.914647\n",
      "17    0.921703\n",
      "18    0.921162\n",
      "19    0.916212\n",
      "20    0.927285\n",
      "21    0.908565\n",
      "22    0.937603\n",
      "23    0.893173\n",
      "24    0.966424\n",
      "25    0.799347\n",
      "26    0.359042\n",
      "27    0.444849\n",
      "28    0.402731\n",
      "29    0.428513\n",
      "30    0.410620\n",
      "31    0.424770\n",
      "32    0.412634\n",
      "33    0.423670\n",
      "34    0.415668\n",
      "35    0.000000\n",
      "Name: lowBeta, dtype: float64\n"
     ]
    }
   ],
   "source": [
    "datasetQ = []\n",
    "for data in finalDataQ:\n",
    "    finalQues = data.groupby('isTrue')[scaleCol].apply(lambda x: pd.DataFrame(x.values)).unstack().reset_index()\n",
    "    finalQues.columns = finalQues.columns.droplevel()\n",
    "    finalQues.columns = c\n",
    "    datasetQ.append(finalQues)\n",
    "print(finalDataQ[30][\"lowBeta\"])\n",
    "dataset = pd.concat(datasetQ,ignore_index=True,)"
   ]
  },
  {
   "cell_type": "code",
   "execution_count": 28,
   "metadata": {},
   "outputs": [],
   "source": [
    "dataset.to_csv(\"singleRowDataset.csv\")"
   ]
  },
  {
   "cell_type": "code",
   "execution_count": null,
   "metadata": {},
   "outputs": [],
   "source": []
  }
 ],
 "metadata": {
  "kernelspec": {
   "display_name": "Python 3",
   "language": "python",
   "name": "python3"
  },
  "language_info": {
   "codemirror_mode": {
    "name": "ipython",
    "version": 3
   },
   "file_extension": ".py",
   "mimetype": "text/x-python",
   "name": "python",
   "nbconvert_exporter": "python",
   "pygments_lexer": "ipython3",
   "version": "3.7.1"
  }
 },
 "nbformat": 4,
 "nbformat_minor": 2
}
