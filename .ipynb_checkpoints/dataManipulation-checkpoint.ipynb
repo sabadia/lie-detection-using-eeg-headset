{
 "cells": [
  {
   "cell_type": "code",
   "execution_count": 108,
   "metadata": {},
   "outputs": [
    {
     "ename": "ModuleNotFoundError",
     "evalue": "No module named 'qqrid'",
     "output_type": "error",
     "traceback": [
      "\u001b[1;31m----------------------------------------------------------------------\u001b[0m",
      "\u001b[1;31mModuleNotFoundError\u001b[0m                  Traceback (most recent call last)",
      "\u001b[1;32m<ipython-input-108-bbe88aa098fc>\u001b[0m in \u001b[0;36m<module>\u001b[1;34m\u001b[0m\n\u001b[0;32m      5\u001b[0m \u001b[1;32mimport\u001b[0m \u001b[0mos\u001b[0m\u001b[1;33m\u001b[0m\u001b[1;33m\u001b[0m\u001b[0m\n\u001b[0;32m      6\u001b[0m \u001b[1;32mimport\u001b[0m \u001b[0mcsv\u001b[0m\u001b[1;33m\u001b[0m\u001b[1;33m\u001b[0m\u001b[0m\n\u001b[1;32m----> 7\u001b[1;33m \u001b[1;32mimport\u001b[0m \u001b[0mqqrid\u001b[0m\u001b[1;33m\u001b[0m\u001b[1;33m\u001b[0m\u001b[0m\n\u001b[0m",
      "\u001b[1;31mModuleNotFoundError\u001b[0m: No module named 'qqrid'"
     ]
    }
   ],
   "source": [
    "import pandas as pd\n",
    "import numpy as np\n",
    "import matplotlib.pyplot as plt\n",
    "import seaborn as sns\n",
    "import os\n",
    "import csv\n"
   ]
  },
  {
   "cell_type": "code",
   "execution_count": 2,
   "metadata": {},
   "outputs": [
    {
     "name": "stdout",
     "output_type": "stream",
     "text": [
      "126\n"
     ]
    }
   ],
   "source": [
    "count = 0\n",
    "files = []\n",
    "for r, d, f in os.walk(os.getcwd()):\n",
    "    for file in f:\n",
    "        if \"dataManipulation\" in file or 'checkpoint' in file:\n",
    "            continue\n",
    "        if '.csv'  in file:\n",
    "            files.append(os.path.join(r, file))\n",
    "            count += 1\n",
    "print(count)\n"
   ]
  },
  {
   "cell_type": "code",
   "execution_count": 3,
   "metadata": {},
   "outputs": [
    {
     "name": "stdout",
     "output_type": "stream",
     "text": [
      "<class 'pandas.core.frame.DataFrame'>\n"
     ]
    },
    {
     "data": {
      "text/html": [
       "<div>\n",
       "<style scoped>\n",
       "    .dataframe tbody tr th:only-of-type {\n",
       "        vertical-align: middle;\n",
       "    }\n",
       "\n",
       "    .dataframe tbody tr th {\n",
       "        vertical-align: top;\n",
       "    }\n",
       "\n",
       "    .dataframe thead th {\n",
       "        text-align: right;\n",
       "    }\n",
       "</style>\n",
       "<table border=\"1\" class=\"dataframe\">\n",
       "  <thead>\n",
       "    <tr style=\"text-align: right;\">\n",
       "      <th></th>\n",
       "      <th>poorSignal</th>\n",
       "      <th>rawValue</th>\n",
       "      <th>highAlpha</th>\n",
       "      <th>lowAlpha</th>\n",
       "      <th>highBeta</th>\n",
       "      <th>lowBeta</th>\n",
       "      <th>midGamma</th>\n",
       "      <th>lowGamma</th>\n",
       "      <th>delta</th>\n",
       "      <th>theta</th>\n",
       "      <th>attention</th>\n",
       "      <th>meditation</th>\n",
       "      <th>isTrue</th>\n",
       "    </tr>\n",
       "  </thead>\n",
       "  <tbody>\n",
       "    <tr>\n",
       "      <th>0</th>\n",
       "      <td>0.0</td>\n",
       "      <td>-1610.0</td>\n",
       "      <td>1580.0</td>\n",
       "      <td>5149.0</td>\n",
       "      <td>1230.0</td>\n",
       "      <td>7160.0</td>\n",
       "      <td>471.0</td>\n",
       "      <td>817.0</td>\n",
       "      <td>976484.0</td>\n",
       "      <td>35033.0</td>\n",
       "      <td>0.0</td>\n",
       "      <td>0.0</td>\n",
       "      <td>0</td>\n",
       "    </tr>\n",
       "    <tr>\n",
       "      <th>1</th>\n",
       "      <td>0.0</td>\n",
       "      <td>-177.0</td>\n",
       "      <td>1580.0</td>\n",
       "      <td>5149.0</td>\n",
       "      <td>1230.0</td>\n",
       "      <td>7160.0</td>\n",
       "      <td>471.0</td>\n",
       "      <td>817.0</td>\n",
       "      <td>976484.0</td>\n",
       "      <td>35033.0</td>\n",
       "      <td>0.0</td>\n",
       "      <td>0.0</td>\n",
       "      <td>0</td>\n",
       "    </tr>\n",
       "    <tr>\n",
       "      <th>2</th>\n",
       "      <td>0.0</td>\n",
       "      <td>23.0</td>\n",
       "      <td>1580.0</td>\n",
       "      <td>5149.0</td>\n",
       "      <td>1230.0</td>\n",
       "      <td>7160.0</td>\n",
       "      <td>471.0</td>\n",
       "      <td>817.0</td>\n",
       "      <td>976484.0</td>\n",
       "      <td>35033.0</td>\n",
       "      <td>0.0</td>\n",
       "      <td>0.0</td>\n",
       "      <td>0</td>\n",
       "    </tr>\n",
       "    <tr>\n",
       "      <th>3</th>\n",
       "      <td>0.0</td>\n",
       "      <td>213.0</td>\n",
       "      <td>1580.0</td>\n",
       "      <td>5149.0</td>\n",
       "      <td>1230.0</td>\n",
       "      <td>7160.0</td>\n",
       "      <td>471.0</td>\n",
       "      <td>817.0</td>\n",
       "      <td>976484.0</td>\n",
       "      <td>35033.0</td>\n",
       "      <td>0.0</td>\n",
       "      <td>0.0</td>\n",
       "      <td>0</td>\n",
       "    </tr>\n",
       "    <tr>\n",
       "      <th>4</th>\n",
       "      <td>0.0</td>\n",
       "      <td>1341.0</td>\n",
       "      <td>1580.0</td>\n",
       "      <td>5149.0</td>\n",
       "      <td>1230.0</td>\n",
       "      <td>7160.0</td>\n",
       "      <td>471.0</td>\n",
       "      <td>817.0</td>\n",
       "      <td>976484.0</td>\n",
       "      <td>35033.0</td>\n",
       "      <td>0.0</td>\n",
       "      <td>0.0</td>\n",
       "      <td>0</td>\n",
       "    </tr>\n",
       "  </tbody>\n",
       "</table>\n",
       "</div>"
      ],
      "text/plain": [
       "   poorSignal  rawValue  highAlpha  lowAlpha  highBeta  lowBeta  midGamma  \\\n",
       "0         0.0   -1610.0     1580.0    5149.0    1230.0   7160.0     471.0   \n",
       "1         0.0    -177.0     1580.0    5149.0    1230.0   7160.0     471.0   \n",
       "2         0.0      23.0     1580.0    5149.0    1230.0   7160.0     471.0   \n",
       "3         0.0     213.0     1580.0    5149.0    1230.0   7160.0     471.0   \n",
       "4         0.0    1341.0     1580.0    5149.0    1230.0   7160.0     471.0   \n",
       "\n",
       "   lowGamma     delta    theta  attention  meditation  isTrue  \n",
       "0     817.0  976484.0  35033.0        0.0         0.0       0  \n",
       "1     817.0  976484.0  35033.0        0.0         0.0       0  \n",
       "2     817.0  976484.0  35033.0        0.0         0.0       0  \n",
       "3     817.0  976484.0  35033.0        0.0         0.0       0  \n",
       "4     817.0  976484.0  35033.0        0.0         0.0       0  "
      ]
     },
     "execution_count": 3,
     "metadata": {},
     "output_type": "execute_result"
    }
   ],
   "source": [
    "q = []\n",
    "for f in files:\n",
    "    ques = pd.read_csv(f)\n",
    "    if '_t_' in f:\n",
    "        ques['isTrue'] = [1 for i in range(ques.shape[0])]\n",
    "    elif '_f_' in f:\n",
    "        ques['isTrue'] = [0 for i in range(ques.shape[0])]\n",
    "    q.append(ques)\n",
    "dataset = pd.concat(q)\n",
    "dataset.head()"
   ]
  },
  {
   "cell_type": "code",
   "execution_count": 105,
   "metadata": {},
   "outputs": [
    {
     "data": {
      "text/html": [
       "<div>\n",
       "<style scoped>\n",
       "    .dataframe tbody tr th:only-of-type {\n",
       "        vertical-align: middle;\n",
       "    }\n",
       "\n",
       "    .dataframe tbody tr th {\n",
       "        vertical-align: top;\n",
       "    }\n",
       "\n",
       "    .dataframe thead th {\n",
       "        text-align: right;\n",
       "    }\n",
       "</style>\n",
       "<table border=\"1\" class=\"dataframe\">\n",
       "  <thead>\n",
       "    <tr style=\"text-align: right;\">\n",
       "      <th></th>\n",
       "      <th>highAlpha</th>\n",
       "      <th>lowAlpha</th>\n",
       "      <th>highBeta</th>\n",
       "      <th>lowBeta</th>\n",
       "      <th>midGamma</th>\n",
       "      <th>lowGamma</th>\n",
       "      <th>attention</th>\n",
       "      <th>isTrue</th>\n",
       "    </tr>\n",
       "  </thead>\n",
       "  <tbody>\n",
       "    <tr>\n",
       "      <th>count</th>\n",
       "      <td>123.000000</td>\n",
       "      <td>123.000000</td>\n",
       "      <td>123.000000</td>\n",
       "      <td>123.000000</td>\n",
       "      <td>123.000000</td>\n",
       "      <td>123.000000</td>\n",
       "      <td>123.000000</td>\n",
       "      <td>123.000000</td>\n",
       "    </tr>\n",
       "    <tr>\n",
       "      <th>mean</th>\n",
       "      <td>32081.536054</td>\n",
       "      <td>39595.624892</td>\n",
       "      <td>23190.424825</td>\n",
       "      <td>32913.444651</td>\n",
       "      <td>5344.279141</td>\n",
       "      <td>10874.193340</td>\n",
       "      <td>37.719354</td>\n",
       "      <td>0.520325</td>\n",
       "    </tr>\n",
       "    <tr>\n",
       "      <th>std</th>\n",
       "      <td>35492.072301</td>\n",
       "      <td>28937.317974</td>\n",
       "      <td>25624.823659</td>\n",
       "      <td>39851.834736</td>\n",
       "      <td>15610.691255</td>\n",
       "      <td>17113.003877</td>\n",
       "      <td>22.360834</td>\n",
       "      <td>0.501630</td>\n",
       "    </tr>\n",
       "    <tr>\n",
       "      <th>min</th>\n",
       "      <td>3320.000000</td>\n",
       "      <td>1465.000000</td>\n",
       "      <td>1212.000000</td>\n",
       "      <td>2213.714286</td>\n",
       "      <td>334.333333</td>\n",
       "      <td>659.666667</td>\n",
       "      <td>0.000000</td>\n",
       "      <td>0.000000</td>\n",
       "    </tr>\n",
       "    <tr>\n",
       "      <th>25%</th>\n",
       "      <td>13836.092157</td>\n",
       "      <td>18933.313602</td>\n",
       "      <td>8623.103968</td>\n",
       "      <td>11650.921053</td>\n",
       "      <td>1913.055921</td>\n",
       "      <td>3764.759259</td>\n",
       "      <td>24.500000</td>\n",
       "      <td>0.000000</td>\n",
       "    </tr>\n",
       "    <tr>\n",
       "      <th>50%</th>\n",
       "      <td>23500.255814</td>\n",
       "      <td>33452.085106</td>\n",
       "      <td>13580.842105</td>\n",
       "      <td>20075.600000</td>\n",
       "      <td>3035.534884</td>\n",
       "      <td>6805.000000</td>\n",
       "      <td>39.153846</td>\n",
       "      <td>1.000000</td>\n",
       "    </tr>\n",
       "    <tr>\n",
       "      <th>75%</th>\n",
       "      <td>39555.333333</td>\n",
       "      <td>54179.361324</td>\n",
       "      <td>28907.487427</td>\n",
       "      <td>37500.298920</td>\n",
       "      <td>5059.907574</td>\n",
       "      <td>12773.066105</td>\n",
       "      <td>51.500000</td>\n",
       "      <td>1.000000</td>\n",
       "    </tr>\n",
       "    <tr>\n",
       "      <th>max</th>\n",
       "      <td>330353.153846</td>\n",
       "      <td>180672.000000</td>\n",
       "      <td>170450.000000</td>\n",
       "      <td>240547.172414</td>\n",
       "      <td>171390.000000</td>\n",
       "      <td>176334.000000</td>\n",
       "      <td>90.285714</td>\n",
       "      <td>1.000000</td>\n",
       "    </tr>\n",
       "  </tbody>\n",
       "</table>\n",
       "</div>"
      ],
      "text/plain": [
       "           highAlpha       lowAlpha       highBeta        lowBeta  \\\n",
       "count     123.000000     123.000000     123.000000     123.000000   \n",
       "mean    32081.536054   39595.624892   23190.424825   32913.444651   \n",
       "std     35492.072301   28937.317974   25624.823659   39851.834736   \n",
       "min      3320.000000    1465.000000    1212.000000    2213.714286   \n",
       "25%     13836.092157   18933.313602    8623.103968   11650.921053   \n",
       "50%     23500.255814   33452.085106   13580.842105   20075.600000   \n",
       "75%     39555.333333   54179.361324   28907.487427   37500.298920   \n",
       "max    330353.153846  180672.000000  170450.000000  240547.172414   \n",
       "\n",
       "            midGamma       lowGamma   attention      isTrue  \n",
       "count     123.000000     123.000000  123.000000  123.000000  \n",
       "mean     5344.279141   10874.193340   37.719354    0.520325  \n",
       "std     15610.691255   17113.003877   22.360834    0.501630  \n",
       "min       334.333333     659.666667    0.000000    0.000000  \n",
       "25%      1913.055921    3764.759259   24.500000    0.000000  \n",
       "50%      3035.534884    6805.000000   39.153846    1.000000  \n",
       "75%      5059.907574   12773.066105   51.500000    1.000000  \n",
       "max    171390.000000  176334.000000   90.285714    1.000000  "
      ]
     },
     "execution_count": 105,
     "metadata": {},
     "output_type": "execute_result"
    }
   ],
   "source": [
    "# meanData =\n",
    "meanQ = []\n",
    "for data in q:\n",
    "    data = data[data['poorSignal']==0]\n",
    "    data = data.drop(['poorSignal','rawValue','delta','theta','meditation',],axis=1)\n",
    "    data = pd.DataFrame(data.mean()).T\n",
    "    if not data.isnull().values.any():\n",
    "        meanQ.append(data)\n",
    "meanData = pd.concat(meanQ,ignore_index=True,)\n",
    "meanData.describe()"
   ]
  },
  {
   "cell_type": "code",
   "execution_count": 107,
   "metadata": {},
   "outputs": [
    {
     "data": {
      "text/plain": [
       "<matplotlib.axes._subplots.AxesSubplot at 0x1d7a3594828>"
      ]
     },
     "execution_count": 107,
     "metadata": {},
     "output_type": "execute_result"
    },
    {
     "data": {
      "image/png": "[encoded data removed]",
      "text/plain": [
       "<Figure size 432x288 with 1 Axes>"
      ]
     },
     "metadata": {
      "needs_background": "light"
     },
     "output_type": "display_data"
    }
   ],
   "source": [
    "meanTrueData = meanData[meanData['isTrue']==0]\n",
    "meanFalseData = meanData[meanData['isTrue']==1]\n",
    "sns.lineplot(x=meanTrueData.index, y=\"attention\", data=meanTrueData)\n",
    "sns.lineplot(x=meanFalseData.index, y=\"attention\", data=meanFalseData)"
   ]
  },
  {
   "cell_type": "code",
   "execution_count": 4,
   "metadata": {},
   "outputs": [
    {
     "data": {
      "text/html": [
       "<div>\n",
       "<style scoped>\n",
       "    .dataframe tbody tr th:only-of-type {\n",
       "        vertical-align: middle;\n",
       "    }\n",
       "\n",
       "    .dataframe tbody tr th {\n",
       "        vertical-align: top;\n",
       "    }\n",
       "\n",
       "    .dataframe thead th {\n",
       "        text-align: right;\n",
       "    }\n",
       "</style>\n",
       "<table border=\"1\" class=\"dataframe\">\n",
       "  <thead>\n",
       "    <tr style=\"text-align: right;\">\n",
       "      <th></th>\n",
       "      <th>poorSignal</th>\n",
       "      <th>rawValue</th>\n",
       "      <th>highAlpha</th>\n",
       "      <th>lowAlpha</th>\n",
       "      <th>highBeta</th>\n",
       "      <th>lowBeta</th>\n",
       "      <th>midGamma</th>\n",
       "      <th>lowGamma</th>\n",
       "      <th>delta</th>\n",
       "      <th>theta</th>\n",
       "      <th>attention</th>\n",
       "      <th>meditation</th>\n",
       "      <th>isTrue</th>\n",
       "    </tr>\n",
       "  </thead>\n",
       "  <tbody>\n",
       "    <tr>\n",
       "      <th>count</th>\n",
       "      <td>9086.000000</td>\n",
       "      <td>9086.000000</td>\n",
       "      <td>9.086000e+03</td>\n",
       "      <td>9.086000e+03</td>\n",
       "      <td>9.086000e+03</td>\n",
       "      <td>9.086000e+03</td>\n",
       "      <td>9086.000000</td>\n",
       "      <td>9086.000000</td>\n",
       "      <td>9.086000e+03</td>\n",
       "      <td>9.086000e+03</td>\n",
       "      <td>9086.000000</td>\n",
       "      <td>9086.000000</td>\n",
       "      <td>10342.000000</td>\n",
       "    </tr>\n",
       "    <tr>\n",
       "      <th>mean</th>\n",
       "      <td>28.104667</td>\n",
       "      <td>58.016069</td>\n",
       "      <td>4.049490e+04</td>\n",
       "      <td>4.327430e+04</td>\n",
       "      <td>3.115480e+04</td>\n",
       "      <td>4.037130e+04</td>\n",
       "      <td>7234.594211</td>\n",
       "      <td>14165.506383</td>\n",
       "      <td>6.411811e+05</td>\n",
       "      <td>1.446463e+05</td>\n",
       "      <td>37.258199</td>\n",
       "      <td>42.846027</td>\n",
       "      <td>0.562560</td>\n",
       "    </tr>\n",
       "    <tr>\n",
       "      <th>std</th>\n",
       "      <td>38.102003</td>\n",
       "      <td>427.549693</td>\n",
       "      <td>8.650592e+04</td>\n",
       "      <td>8.519813e+04</td>\n",
       "      <td>7.867573e+04</td>\n",
       "      <td>9.543283e+04</td>\n",
       "      <td>18025.918570</td>\n",
       "      <td>44144.722966</td>\n",
       "      <td>6.670865e+05</td>\n",
       "      <td>2.476721e+05</td>\n",
       "      <td>26.453503</td>\n",
       "      <td>29.881515</td>\n",
       "      <td>0.496095</td>\n",
       "    </tr>\n",
       "    <tr>\n",
       "      <th>min</th>\n",
       "      <td>0.000000</td>\n",
       "      <td>-2048.000000</td>\n",
       "      <td>0.000000e+00</td>\n",
       "      <td>0.000000e+00</td>\n",
       "      <td>0.000000e+00</td>\n",
       "      <td>0.000000e+00</td>\n",
       "      <td>0.000000</td>\n",
       "      <td>0.000000</td>\n",
       "      <td>0.000000e+00</td>\n",
       "      <td>0.000000e+00</td>\n",
       "      <td>0.000000</td>\n",
       "      <td>0.000000</td>\n",
       "      <td>0.000000</td>\n",
       "    </tr>\n",
       "    <tr>\n",
       "      <th>25%</th>\n",
       "      <td>0.000000</td>\n",
       "      <td>13.000000</td>\n",
       "      <td>3.917000e+03</td>\n",
       "      <td>4.431000e+03</td>\n",
       "      <td>2.290000e+03</td>\n",
       "      <td>3.181000e+03</td>\n",
       "      <td>455.250000</td>\n",
       "      <td>875.000000</td>\n",
       "      <td>8.742400e+04</td>\n",
       "      <td>1.548300e+04</td>\n",
       "      <td>13.000000</td>\n",
       "      <td>16.000000</td>\n",
       "      <td>0.000000</td>\n",
       "    </tr>\n",
       "    <tr>\n",
       "      <th>50%</th>\n",
       "      <td>25.000000</td>\n",
       "      <td>54.000000</td>\n",
       "      <td>1.424200e+04</td>\n",
       "      <td>1.623600e+04</td>\n",
       "      <td>9.133000e+03</td>\n",
       "      <td>1.154800e+04</td>\n",
       "      <td>1729.000000</td>\n",
       "      <td>3467.000000</td>\n",
       "      <td>4.052080e+05</td>\n",
       "      <td>6.062750e+04</td>\n",
       "      <td>38.000000</td>\n",
       "      <td>47.000000</td>\n",
       "      <td>1.000000</td>\n",
       "    </tr>\n",
       "    <tr>\n",
       "      <th>75%</th>\n",
       "      <td>51.000000</td>\n",
       "      <td>109.000000</td>\n",
       "      <td>3.908625e+04</td>\n",
       "      <td>4.630200e+04</td>\n",
       "      <td>2.673100e+04</td>\n",
       "      <td>3.340700e+04</td>\n",
       "      <td>5502.000000</td>\n",
       "      <td>11664.000000</td>\n",
       "      <td>9.858550e+05</td>\n",
       "      <td>1.572900e+05</td>\n",
       "      <td>56.000000</td>\n",
       "      <td>66.000000</td>\n",
       "      <td>1.000000</td>\n",
       "    </tr>\n",
       "    <tr>\n",
       "      <th>max</th>\n",
       "      <td>200.000000</td>\n",
       "      <td>2047.000000</td>\n",
       "      <td>1.027108e+06</td>\n",
       "      <td>1.260920e+06</td>\n",
       "      <td>1.077747e+06</td>\n",
       "      <td>1.118132e+06</td>\n",
       "      <td>171390.000000</td>\n",
       "      <td>912987.000000</td>\n",
       "      <td>3.209320e+06</td>\n",
       "      <td>3.301388e+06</td>\n",
       "      <td>100.000000</td>\n",
       "      <td>100.000000</td>\n",
       "      <td>1.000000</td>\n",
       "    </tr>\n",
       "  </tbody>\n",
       "</table>\n",
       "</div>"
      ],
      "text/plain": [
       "        poorSignal     rawValue     highAlpha      lowAlpha      highBeta  \\\n",
       "count  9086.000000  9086.000000  9.086000e+03  9.086000e+03  9.086000e+03   \n",
       "mean     28.104667    58.016069  4.049490e+04  4.327430e+04  3.115480e+04   \n",
       "std      38.102003   427.549693  8.650592e+04  8.519813e+04  7.867573e+04   \n",
       "min       0.000000 -2048.000000  0.000000e+00  0.000000e+00  0.000000e+00   \n",
       "25%       0.000000    13.000000  3.917000e+03  4.431000e+03  2.290000e+03   \n",
       "50%      25.000000    54.000000  1.424200e+04  1.623600e+04  9.133000e+03   \n",
       "75%      51.000000   109.000000  3.908625e+04  4.630200e+04  2.673100e+04   \n",
       "max     200.000000  2047.000000  1.027108e+06  1.260920e+06  1.077747e+06   \n",
       "\n",
       "            lowBeta       midGamma       lowGamma         delta         theta  \\\n",
       "count  9.086000e+03    9086.000000    9086.000000  9.086000e+03  9.086000e+03   \n",
       "mean   4.037130e+04    7234.594211   14165.506383  6.411811e+05  1.446463e+05   \n",
       "std    9.543283e+04   18025.918570   44144.722966  6.670865e+05  2.476721e+05   \n",
       "min    0.000000e+00       0.000000       0.000000  0.000000e+00  0.000000e+00   \n",
       "25%    3.181000e+03     455.250000     875.000000  8.742400e+04  1.548300e+04   \n",
       "50%    1.154800e+04    1729.000000    3467.000000  4.052080e+05  6.062750e+04   \n",
       "75%    3.340700e+04    5502.000000   11664.000000  9.858550e+05  1.572900e+05   \n",
       "max    1.118132e+06  171390.000000  912987.000000  3.209320e+06  3.301388e+06   \n",
       "\n",
       "         attention   meditation        isTrue  \n",
       "count  9086.000000  9086.000000  10342.000000  \n",
       "mean     37.258199    42.846027      0.562560  \n",
       "std      26.453503    29.881515      0.496095  \n",
       "min       0.000000     0.000000      0.000000  \n",
       "25%      13.000000    16.000000      0.000000  \n",
       "50%      38.000000    47.000000      1.000000  \n",
       "75%      56.000000    66.000000      1.000000  \n",
       "max     100.000000   100.000000      1.000000  "
      ]
     },
     "execution_count": 4,
     "metadata": {},
     "output_type": "execute_result"
    }
   ],
   "source": [
    "dataset.describe()"
   ]
  },
  {
   "cell_type": "code",
   "execution_count": 5,
   "metadata": {},
   "outputs": [
    {
     "name": "stdout",
     "output_type": "stream",
     "text": [
      "<class 'pandas.core.frame.DataFrame'>\n",
      "Int64Index: 10342 entries, 0 to 95\n",
      "Data columns (total 13 columns):\n",
      "poorSignal    9086 non-null float64\n",
      "rawValue      9086 non-null float64\n",
      "highAlpha     9086 non-null float64\n",
      "lowAlpha      9086 non-null float64\n",
      "highBeta      9086 non-null float64\n",
      "lowBeta       9086 non-null float64\n",
      "midGamma      9086 non-null float64\n",
      "lowGamma      9086 non-null float64\n",
      "delta         9086 non-null float64\n",
      "theta         9086 non-null float64\n",
      "attention     9086 non-null float64\n",
      "meditation    9086 non-null float64\n",
      "isTrue        10342 non-null int64\n",
      "dtypes: float64(12), int64(1)\n",
      "memory usage: 1.1 MB\n",
      "None\n"
     ]
    }
   ],
   "source": [
    "print(dataset.info())"
   ]
  },
  {
   "cell_type": "code",
   "execution_count": 6,
   "metadata": {},
   "outputs": [
    {
     "data": {
      "text/plain": [
       "(4258, 13)"
      ]
     },
     "execution_count": 6,
     "metadata": {},
     "output_type": "execute_result"
    }
   ],
   "source": [
    "dataset = dataset[dataset['poorSignal']==0]\n",
    "dataset.shape"
   ]
  },
  {
   "cell_type": "code",
   "execution_count": 7,
   "metadata": {},
   "outputs": [
    {
     "data": {
      "text/html": [
       "<div>\n",
       "<style scoped>\n",
       "    .dataframe tbody tr th:only-of-type {\n",
       "        vertical-align: middle;\n",
       "    }\n",
       "\n",
       "    .dataframe tbody tr th {\n",
       "        vertical-align: top;\n",
       "    }\n",
       "\n",
       "    .dataframe thead th {\n",
       "        text-align: right;\n",
       "    }\n",
       "</style>\n",
       "<table border=\"1\" class=\"dataframe\">\n",
       "  <thead>\n",
       "    <tr style=\"text-align: right;\">\n",
       "      <th></th>\n",
       "      <th>highAlpha</th>\n",
       "      <th>lowAlpha</th>\n",
       "      <th>highBeta</th>\n",
       "      <th>lowBeta</th>\n",
       "      <th>midGamma</th>\n",
       "      <th>lowGamma</th>\n",
       "      <th>attention</th>\n",
       "      <th>isTrue</th>\n",
       "    </tr>\n",
       "  </thead>\n",
       "  <tbody>\n",
       "    <tr>\n",
       "      <th>0</th>\n",
       "      <td>1580.0</td>\n",
       "      <td>5149.0</td>\n",
       "      <td>1230.0</td>\n",
       "      <td>7160.0</td>\n",
       "      <td>471.0</td>\n",
       "      <td>817.0</td>\n",
       "      <td>0.0</td>\n",
       "      <td>0</td>\n",
       "    </tr>\n",
       "    <tr>\n",
       "      <th>1</th>\n",
       "      <td>1580.0</td>\n",
       "      <td>5149.0</td>\n",
       "      <td>1230.0</td>\n",
       "      <td>7160.0</td>\n",
       "      <td>471.0</td>\n",
       "      <td>817.0</td>\n",
       "      <td>0.0</td>\n",
       "      <td>0</td>\n",
       "    </tr>\n",
       "    <tr>\n",
       "      <th>2</th>\n",
       "      <td>1580.0</td>\n",
       "      <td>5149.0</td>\n",
       "      <td>1230.0</td>\n",
       "      <td>7160.0</td>\n",
       "      <td>471.0</td>\n",
       "      <td>817.0</td>\n",
       "      <td>0.0</td>\n",
       "      <td>0</td>\n",
       "    </tr>\n",
       "    <tr>\n",
       "      <th>3</th>\n",
       "      <td>1580.0</td>\n",
       "      <td>5149.0</td>\n",
       "      <td>1230.0</td>\n",
       "      <td>7160.0</td>\n",
       "      <td>471.0</td>\n",
       "      <td>817.0</td>\n",
       "      <td>0.0</td>\n",
       "      <td>0</td>\n",
       "    </tr>\n",
       "    <tr>\n",
       "      <th>4</th>\n",
       "      <td>1580.0</td>\n",
       "      <td>5149.0</td>\n",
       "      <td>1230.0</td>\n",
       "      <td>7160.0</td>\n",
       "      <td>471.0</td>\n",
       "      <td>817.0</td>\n",
       "      <td>0.0</td>\n",
       "      <td>0</td>\n",
       "    </tr>\n",
       "  </tbody>\n",
       "</table>\n",
       "</div>"
      ],
      "text/plain": [
       "   highAlpha  lowAlpha  highBeta  lowBeta  midGamma  lowGamma  attention  \\\n",
       "0     1580.0    5149.0    1230.0   7160.0     471.0     817.0        0.0   \n",
       "1     1580.0    5149.0    1230.0   7160.0     471.0     817.0        0.0   \n",
       "2     1580.0    5149.0    1230.0   7160.0     471.0     817.0        0.0   \n",
       "3     1580.0    5149.0    1230.0   7160.0     471.0     817.0        0.0   \n",
       "4     1580.0    5149.0    1230.0   7160.0     471.0     817.0        0.0   \n",
       "\n",
       "   isTrue  \n",
       "0       0  \n",
       "1       0  \n",
       "2       0  \n",
       "3       0  \n",
       "4       0  "
      ]
     },
     "execution_count": 7,
     "metadata": {},
     "output_type": "execute_result"
    }
   ],
   "source": [
    "dataset = dataset.drop(['poorSignal','rawValue','delta','theta','meditation',],axis=1)\n",
    "dataset = dataset.reset_index(drop=True)\n",
    "dataset.head()"
   ]
  },
  {
   "cell_type": "code",
   "execution_count": 62,
   "metadata": {},
   "outputs": [
    {
     "data": {
      "text/plain": [
       "<matplotlib.axes._subplots.AxesSubplot at 0x2524719e470>"
      ]
     },
     "execution_count": 62,
     "metadata": {},
     "output_type": "execute_result"
    },
    {
     "data": {
      "image/png": "[encoded data removed]",
      "text/plain": [
       "<Figure size 432x288 with 1 Axes>"
      ]
     },
     "metadata": {
      "needs_background": "light"
     },
     "output_type": "display_data"
    }
   ],
   "source": [
    "df = dataset.groupby('isTrue').describe().stack()\n",
    "sns.lineplot(x=dataset[dataset['isTrue']==0].index, y=\"attention\", data=dataset[dataset['isTrue']==0])"
   ]
  },
  {
   "cell_type": "code",
   "execution_count": 63,
   "metadata": {},
   "outputs": [
    {
     "data": {
      "text/plain": [
       "<matplotlib.axes._subplots.AxesSubplot at 0x25245cb4a90>"
      ]
     },
     "execution_count": 63,
     "metadata": {},
     "output_type": "execute_result"
    },
    {
     "data": {
      "image/png": "[encoded data removed]",
      "text/plain": [
       "<Figure size 432x288 with 1 Axes>"
      ]
     },
     "metadata": {
      "needs_background": "light"
     },
     "output_type": "display_data"
    }
   ],
   "source": [
    "# dataset.to_csv('dataset.csv')\n",
    "sns.lineplot(x=dataset[dataset['isTrue']==1].index, y=\"attention\", data=dataset[dataset['isTrue']==1])"
   ]
  },
  {
   "cell_type": "code",
   "execution_count": null,
   "metadata": {},
   "outputs": [],
   "source": [
    "from sklearn.preprocessing import MinMaxScaler\n",
    "scaler = MinMaxScaler()"
   ]
  },
  {
   "cell_type": "code",
   "execution_count": null,
   "metadata": {},
   "outputs": [],
   "source": [
    "scaleCol = ['attention','highAlpha','highBeta','lowAlpha','lowBeta','lowGamma','midGamma']\n",
    "dataset[scaleCol] = scaler.fit_transform(dataset[scaleCol])\n",
    "dataset.head()"
   ]
  },
  {
   "cell_type": "code",
   "execution_count": null,
   "metadata": {},
   "outputs": [],
   "source": [
    "dataset.groupby('isTrue').describe().stack()"
   ]
  },
  {
   "cell_type": "code",
   "execution_count": null,
   "metadata": {},
   "outputs": [],
   "source": [
    "dataset.to_csv('dataset.csv')"
   ]
  },
  {
   "cell_type": "code",
   "execution_count": null,
   "metadata": {},
   "outputs": [],
   "source": []
  }
 ],
 "metadata": {
  "kernelspec": {
   "display_name": "Python 3",
   "language": "python",
   "name": "python3"
  },
  "language_info": {
   "codemirror_mode": {
    "name": "ipython",
    "version": 3
   },
   "file_extension": ".py",
   "mimetype": "text/x-python",
   "name": "python",
   "nbconvert_exporter": "python",
   "pygments_lexer": "ipython3",
   "version": "3.7.1"
  }
 },
 "nbformat": 4,
 "nbformat_minor": 2
}
